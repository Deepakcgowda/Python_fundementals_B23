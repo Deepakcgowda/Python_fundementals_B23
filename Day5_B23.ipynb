{
 "cells": [
  {
   "cell_type": "code",
   "execution_count": null,
   "metadata": {},
   "outputs": [],
   "source": [
    "introduction to for loop :"
   ]
  },
  {
   "cell_type": "code",
   "execution_count": 10,
   "metadata": {},
   "outputs": [],
   "source": [
    "Bank_Customers = ['arsh','kiran','ravi','usha','bhavya','deepak'] # 6 customers. Canara Bank. #mainvariable"
   ]
  },
  {
   "cell_type": "code",
   "execution_count": 7,
   "metadata": {},
   "outputs": [],
   "source": [
    "#requirement : Greeting to the customers----!"
   ]
  },
  {
   "cell_type": "code",
   "execution_count": null,
   "metadata": {},
   "outputs": [],
   "source": [
    "Canara Bank wishes you a very happy new year, arsh.."
   ]
  },
  {
   "cell_type": "code",
   "execution_count": null,
   "metadata": {},
   "outputs": [],
   "source": [
    "#regular way:"
   ]
  },
  {
   "cell_type": "code",
   "execution_count": 12,
   "metadata": {},
   "outputs": [
    {
     "name": "stdout",
     "output_type": "stream",
     "text": [
      "Canara bank wishes you a very happy new year, Arsh\n"
     ]
    }
   ],
   "source": [
    "print(f\"Canara bank wishes you a very happy new year, {Bank_Customers[0].title()}\")"
   ]
  },
  {
   "cell_type": "code",
   "execution_count": 13,
   "metadata": {},
   "outputs": [
    {
     "name": "stdout",
     "output_type": "stream",
     "text": [
      "Canara bank wishes you a very happy new year, Bhavya\n"
     ]
    }
   ],
   "source": [
    "print(f\"Canara bank wishes you a very happy new year, {Bank_Customers[4].title()}\")"
   ]
  },
  {
   "cell_type": "code",
   "execution_count": null,
   "metadata": {},
   "outputs": [],
   "source": [
    "#to automated the soln."
   ]
  },
  {
   "cell_type": "code",
   "execution_count": 21,
   "metadata": {},
   "outputs": [
    {
     "name": "stdout",
     "output_type": "stream",
     "text": [
      "Canara Bank wishes you a very happy new year, arsh\n",
      "Canara Bank wishes you a very happy new year, kiran\n",
      "Canara Bank wishes you a very happy new year, ravi\n",
      "Canara Bank wishes you a very happy new year, usha\n",
      "Canara Bank wishes you a very happy new year, bhavya\n",
      "Canara Bank wishes you a very happy new year, deepak\n"
     ]
    }
   ],
   "source": [
    "for Customers in Bank_Customers:\n",
    "    print(f\"Canara Bank wishes you a very happy new year, {Customers}\") # tempvar:"
   ]
  },
  {
   "cell_type": "code",
   "execution_count": null,
   "metadata": {},
   "outputs": [],
   "source": [
    "#general syntax for a for loop:"
   ]
  },
  {
   "cell_type": "code",
   "execution_count": null,
   "metadata": {},
   "outputs": [],
   "source": [
    "for tempvar in mainvar: #indentation:\n",
    "    print(tempvar)"
   ]
  },
  {
   "cell_type": "code",
   "execution_count": 25,
   "metadata": {},
   "outputs": [
    {
     "name": "stdout",
     "output_type": "stream",
     "text": [
      "Canara Bank wishes you a very happy new year, arsh\n",
      "Canara Bank wishes you a very happy new year, kiran\n",
      "Canara Bank wishes you a very happy new year, ravi\n",
      "Canara Bank wishes you a very happy new year, usha\n",
      "Canara Bank wishes you a very happy new year, bhavya\n",
      "Canara Bank wishes you a very happy new year, deepak\n"
     ]
    }
   ],
   "source": [
    "for batman in Bank_Customers:\n",
    "    print(f\"Canara Bank wishes you a very happy new year, {batman}\")"
   ]
  },
  {
   "cell_type": "code",
   "execution_count": null,
   "metadata": {},
   "outputs": [],
   "source": [
    "for tempvar in mainvar:\n",
    "    print(tempvar)"
   ]
  },
  {
   "cell_type": "code",
   "execution_count": 26,
   "metadata": {},
   "outputs": [
    {
     "name": "stdout",
     "output_type": "stream",
     "text": [
      "Canara Bank wishes you a very happy new year, arsh\n",
      "Canara Bank wishes you a very happy new year, kiran\n",
      "Canara Bank wishes you a very happy new year, ravi\n",
      "Canara Bank wishes you a very happy new year, usha\n",
      "Canara Bank wishes you a very happy new year, bhavya\n",
      "Canara Bank wishes you a very happy new year, deepak\n"
     ]
    }
   ],
   "source": [
    "for x in Bank_Customers:\n",
    "    print(f\"Canara Bank wishes you a very happy new year, {x}\")"
   ]
  },
  {
   "cell_type": "code",
   "execution_count": 35,
   "metadata": {},
   "outputs": [],
   "source": [
    "my_students = ['arsh','kiran','ravi','usha','bhavya','deepak']"
   ]
  },
  {
   "cell_type": "code",
   "execution_count": null,
   "metadata": {},
   "outputs": [],
   "source": [
    "#req: to appreciate the students."
   ]
  },
  {
   "cell_type": "code",
   "execution_count": 36,
   "metadata": {},
   "outputs": [
    {
     "name": "stdout",
     "output_type": "stream",
     "text": [
      "arsh\n",
      "kiran\n",
      "ravi\n",
      "usha\n",
      "bhavya\n",
      "deepak\n"
     ]
    }
   ],
   "source": [
    "for student in my_students:\n",
    "    print(student)"
   ]
  },
  {
   "cell_type": "code",
   "execution_count": 38,
   "metadata": {},
   "outputs": [
    {
     "name": "stdout",
     "output_type": "stream",
     "text": [
      "keep up the good work, Arsh\n",
      "keep up the good work, Kiran\n",
      "keep up the good work, Ravi\n",
      "keep up the good work, Usha\n",
      "keep up the good work, Bhavya\n",
      "keep up the good work, Deepak\n"
     ]
    }
   ],
   "source": [
    "for student in my_students:\n",
    "    print(f\"keep up the good work, {student.title()}\")"
   ]
  },
  {
   "cell_type": "code",
   "execution_count": 39,
   "metadata": {},
   "outputs": [
    {
     "name": "stdout",
     "output_type": "stream",
     "text": [
      "keep up the good work, Arsh\n",
      "keep up the good work, Kiran\n",
      "keep up the good work, Ravi\n",
      "keep up the good work, Usha\n",
      "keep up the good work, Bhavya\n",
      "keep up the good work, Deepak\n"
     ]
    }
   ],
   "source": [
    "for y in my_students:\n",
    "    print(f\"keep up the good work, {y.title()}\")"
   ]
  },
  {
   "cell_type": "code",
   "execution_count": null,
   "metadata": {},
   "outputs": [],
   "source": [
    "#add req: i am waiting to revive your practise file of today."
   ]
  },
  {
   "cell_type": "code",
   "execution_count": 43,
   "metadata": {},
   "outputs": [
    {
     "name": "stdout",
     "output_type": "stream",
     "text": [
      "keep up the good work, Arsh\n",
      "iam waiting to send this practise file of today, Arsh\n",
      "keep up the good work, Kiran\n",
      "iam waiting to send this practise file of today, Kiran\n",
      "keep up the good work, Ravi\n",
      "iam waiting to send this practise file of today, Ravi\n",
      "keep up the good work, Usha\n",
      "iam waiting to send this practise file of today, Usha\n",
      "keep up the good work, Bhavya\n",
      "iam waiting to send this practise file of today, Bhavya\n",
      "keep up the good work, Deepak\n",
      "iam waiting to send this practise file of today, Deepak\n"
     ]
    }
   ],
   "source": [
    "for y in my_students:\n",
    "    print(f\"keep up the good work, {y.title()}\")\n",
    "    print(f\"iam waiting to send this practise file of today, {y.title()}\")"
   ]
  },
  {
   "cell_type": "code",
   "execution_count": null,
   "metadata": {},
   "outputs": [],
   "source": [
    "#enhancement of code."
   ]
  },
  {
   "cell_type": "code",
   "execution_count": 44,
   "metadata": {},
   "outputs": [
    {
     "name": "stdout",
     "output_type": "stream",
     "text": [
      "keep up the good work, Arsh\n",
      "iam waiting to send this practise file of today, Arsh.\n",
      "\n",
      "keep up the good work, Kiran\n",
      "iam waiting to send this practise file of today, Kiran.\n",
      "\n",
      "keep up the good work, Ravi\n",
      "iam waiting to send this practise file of today, Ravi.\n",
      "\n",
      "keep up the good work, Usha\n",
      "iam waiting to send this practise file of today, Usha.\n",
      "\n",
      "keep up the good work, Bhavya\n",
      "iam waiting to send this practise file of today, Bhavya.\n",
      "\n",
      "keep up the good work, Deepak\n",
      "iam waiting to send this practise file of today, Deepak.\n",
      "\n"
     ]
    }
   ],
   "source": [
    "for y in my_students:\n",
    "    print(f\"keep up the good work, {y.title()}\")\n",
    "    print(f\"iam waiting to send this practise file of today, {y.title()}.\\n\")"
   ]
  },
  {
   "cell_type": "code",
   "execution_count": 62,
   "metadata": {},
   "outputs": [
    {
     "name": "stdout",
     "output_type": "stream",
     "text": [
      "keep up the good work, Arsh\n",
      "iam waiting to send this practise file of today, arsh.\n",
      "\n",
      "thank you all!\n",
      "keep up the good work, Kiran\n",
      "iam waiting to send this practise file of today, kiran.\n",
      "\n",
      "thank you all!\n",
      "keep up the good work, Ravi\n",
      "iam waiting to send this practise file of today, ravi.\n",
      "\n",
      "thank you all!\n",
      "keep up the good work, Usha\n",
      "iam waiting to send this practise file of today, usha.\n",
      "\n",
      "thank you all!\n",
      "keep up the good work, Bhavya\n",
      "iam waiting to send this practise file of today, bhavya.\n",
      "\n",
      "thank you all!\n",
      "keep up the good work, Deepak\n",
      "iam waiting to send this practise file of today, deepak.\n",
      "\n",
      "thank you all!\n"
     ]
    }
   ],
   "source": [
    "for y in my_students:\n",
    "    print(f\"keep up the good work, {y.title()}\")\n",
    "    print(f\"iam waiting to send this practise file of today, {y}.\\n\")\n",
    "    \n",
    "    print('thank you all!')"
   ]
  },
  {
   "cell_type": "code",
   "execution_count": null,
   "metadata": {},
   "outputs": [],
   "source": []
  },
  {
   "cell_type": "code",
   "execution_count": null,
   "metadata": {},
   "outputs": [],
   "source": []
  }
 ],
 "metadata": {
  "kernelspec": {
   "display_name": "Python 3",
   "language": "python",
   "name": "python3"
  },
  "language_info": {
   "codemirror_mode": {
    "name": "ipython",
    "version": 3
   },
   "file_extension": ".py",
   "mimetype": "text/x-python",
   "name": "python",
   "nbconvert_exporter": "python",
   "pygments_lexer": "ipython3",
   "version": "3.7.6"
  }
 },
 "nbformat": 4,
 "nbformat_minor": 4
}
